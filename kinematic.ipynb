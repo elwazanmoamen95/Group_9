{
 "cells": [
  {
   "cell_type": "markdown",
   "metadata": {},
   "source": [
    "# Kinematic Model implementation"
   ]
  },
  {
   "cell_type": "markdown",
   "metadata": {},
   "source": [
    "First we need to import the required library: **numpy**"
   ]
  },
  {
   "cell_type": "code",
   "execution_count": 1,
   "metadata": {},
   "outputs": [],
   "source": [
    "import numpy as np"
   ]
  },
  {
   "cell_type": "markdown",
   "metadata": {},
   "source": [
    "Differential drive kinematics is the `mathematical model` used to describe the movement and orientation of a differential robot based on the velocities of its two wheels. The kinematic model allows the robot to calculate its ``position and orientation`` as it moves, which is crucial for navigation, path planning, and control in various robotic applications."
   ]
  },
  {
   "cell_type": "markdown",
   "metadata": {},
   "source": [
    "**Constants:**\n",
    "   - **b** is the width of the robot, distance between the two wheels\n",
    "   - **r** is the radius of the wheel\n",
    "   \n",
    "**Variables:**\n",
    "   - **Vx Linear velocity** in x direction and **w Angular velocity** that will be calculated from PID controller    \n",
    "   - **v** Array of linear and angular velocity of the robot\n",
    "   - **Vl** Linear velocity of the left wheel\n",
    "   - **Vr** Linear veloicty of the right wheel \n",
    "  "
   ]
  },
  {
   "cell_type": "markdown",
   "metadata": {},
   "source": [
    "**1- Forward Kinematic**\n",
    "\n",
    "Next two cell, will be Implementing both local and global frame.\n",
    "\n",
    "\n",
    "**Assumptions:**\n",
    "\n",
    "**wr** The angular velocity of the right wheel to be 0.3\n",
    "\n",
    "**wl** The angular velocity of the left wheel to be 0.2"
   ]
  },
  {
   "cell_type": "code",
   "execution_count": null,
   "metadata": {},
   "outputs": [],
   "source": [
    "b = 0.294\n",
    "r= 0.06\n",
    "\n",
    "wr = 0.3\n",
    "wl = 0.2\n",
    "\n",
    "vr = wr * r\n",
    "vl = wl * r\n"
   ]
  },
  {
   "cell_type": "code",
   "execution_count": 4,
   "metadata": {},
   "outputs": [
    {
     "name": "stdout",
     "output_type": "stream",
     "text": [
      "Vs -> 0.015\n",
      "w -> 0.020408163265306117\n"
     ]
    }
   ],
   "source": [
    "## Local frame ##\n",
    "\n",
    "Vx = (1/2)  * vr  + (1/2) *  vl\n",
    "w  = (1/b)  * vr  - (1/b) *  vl\n",
    "\n",
    "print(f\"Vs -> {Vx}\")\n",
    "print(f\"w -> {w}\")"
   ]
  },
  {
   "cell_type": "markdown",
   "metadata": {},
   "source": [
    "**Variables of global frame:**\n",
    "\n",
    "- **Vgx:** Is the linear velocity in x direction but in the global frame\n",
    "- **Vgy:** Is the linear velocity in y direction but in the global frame\n",
    "- **Wg:** Angular velocity in global frame"
   ]
  },
  {
   "cell_type": "code",
   "execution_count": 6,
   "metadata": {},
   "outputs": [
    {
     "name": "stdout",
     "output_type": "stream",
     "text": [
      "Vgx -> -0.015\n",
      "Vgy -> 0\n",
      "Wg -> 0.020408163265306117\n"
     ]
    }
   ],
   "source": [
    "theta = 180\n",
    "\n",
    "Vgx= Vx * np.cos( theta * (np.pi/180) )\n",
    "Vgy= Vx * np.sin( theta * (np.pi/180) )\n",
    "Wg = w\n",
    "\n",
    "# if vgx, vgy, wg is a very small value less than 0.00001 will be approximated to 0 \n",
    "if np.abs(Vgx) < 1e-5 : Vgx = 0\n",
    "if np.abs(Vgy) < 1e-5 : Vgy = 0\n",
    "if np.abs(Wg ) < 1e-5 : Wg = 0\n",
    "\n",
    "print(f\"Vgx -> {Vgx}\")\n",
    "print(f\"Vgy -> {Vgy}\")\n",
    "print(f\"Wg -> {w}\")"
   ]
  },
  {
   "cell_type": "markdown",
   "metadata": {},
   "source": [
    "**2- Inverse kinematics**"
   ]
  },
  {
   "cell_type": "code",
   "execution_count": 16,
   "metadata": {},
   "outputs": [
    {
     "name": "stdout",
     "output_type": "stream",
     "text": [
      "[[ 90.]\n",
      " [110.]]\n",
      "[[ 9.]\n",
      " [11.]]\n"
     ]
    }
   ],
   "source": [
    "\n",
    "\n",
    "b = 0.2\n",
    "r = 0.1\n",
    "# vs and w should come from PID function\n",
    "vx = 10\n",
    "w = 10\n",
    "\n",
    "def calc_velocities(vx,w):\n",
    "    v=np.array([[vx] , [w]])  \n",
    "    Kinematics= np.array([[r/2,r/2] , [-r/b , r/b]]) \n",
    "\n",
    "    W = np.linalg.pinv(Kinematics) @ v\n",
    "    print(W)\n",
    "    v_right_left = W * r\n",
    "    print(v_right_left)\n",
    "\n",
    "\n",
    "calc_velocities(vx,w)"
   ]
  }
 ],
 "metadata": {
  "kernelspec": {
   "display_name": "Python 3",
   "language": "python",
   "name": "python3"
  },
  "language_info": {
   "codemirror_mode": {
    "name": "ipython",
    "version": 3
   },
   "file_extension": ".py",
   "mimetype": "text/x-python",
   "name": "python",
   "nbconvert_exporter": "python",
   "pygments_lexer": "ipython3",
   "version": "3.11.4"
  }
 },
 "nbformat": 4,
 "nbformat_minor": 2
}
